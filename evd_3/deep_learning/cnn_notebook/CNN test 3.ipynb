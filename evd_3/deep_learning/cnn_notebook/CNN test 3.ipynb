{
 "cells": [
  {
   "cell_type": "code",
   "execution_count": 1,
   "id": "0b41a736",
   "metadata": {},
   "outputs": [
    {
     "name": "stderr",
     "output_type": "stream",
     "text": [
      "2023-01-09 16:19:14.402419: I tensorflow/core/platform/cpu_feature_guard.cc:193] This TensorFlow binary is optimized with oneAPI Deep Neural Network Library (oneDNN) to use the following CPU instructions in performance-critical operations:  AVX2 AVX_VNNI FMA\n",
      "To enable them in other operations, rebuild TensorFlow with the appropriate compiler flags.\n",
      "2023-01-09 16:19:14.473736: I tensorflow/core/util/util.cc:169] oneDNN custom operations are on. You may see slightly different numerical results due to floating-point round-off errors from different computation orders. To turn them off, set the environment variable `TF_ENABLE_ONEDNN_OPTS=0`.\n",
      "2023-01-09 16:19:14.491415: E tensorflow/stream_executor/cuda/cuda_blas.cc:2981] Unable to register cuBLAS factory: Attempting to register factory for plugin cuBLAS when one has already been registered\n",
      "2023-01-09 16:19:14.833957: W tensorflow/stream_executor/platform/default/dso_loader.cc:64] Could not load dynamic library 'libnvinfer.so.7'; dlerror: libnvinfer.so.7: cannot open shared object file: No such file or directory; LD_LIBRARY_PATH: /home/shinichi/.local/lib/python3.10/site-packages/cv2/../../lib64:\n",
      "2023-01-09 16:19:14.834025: W tensorflow/stream_executor/platform/default/dso_loader.cc:64] Could not load dynamic library 'libnvinfer_plugin.so.7'; dlerror: libnvinfer_plugin.so.7: cannot open shared object file: No such file or directory; LD_LIBRARY_PATH: /home/shinichi/.local/lib/python3.10/site-packages/cv2/../../lib64:\n",
      "2023-01-09 16:19:14.834030: W tensorflow/compiler/tf2tensorrt/utils/py_utils.cc:38] TF-TRT Warning: Cannot dlopen some TensorRT libraries. If you would like to use Nvidia GPU with TensorRT, please make sure the missing libraries mentioned above are installed properly.\n"
     ]
    }
   ],
   "source": [
    "import os\n",
    "import glob\n",
    "import cv2\n",
    "import numpy as np\n",
    "from sklearn.preprocessing import OneHotEncoder\n",
    "import keras\n",
    "import keras_tuner as kt\n",
    "import datetime\n",
    "import tensorflow as tf\n",
    "from sklearn.metrics import confusion_matrix"
   ]
  },
  {
   "cell_type": "code",
   "execution_count": 2,
   "id": "2d5c19dc",
   "metadata": {},
   "outputs": [],
   "source": [
    "data_dir = os.path.join(\"..\", \"yolo_preperation\", \"data\")"
   ]
  },
  {
   "cell_type": "code",
   "execution_count": 3,
   "id": "e23b1964",
   "metadata": {},
   "outputs": [],
   "source": [
    "shrink_factor = 4"
   ]
  },
  {
   "cell_type": "code",
   "execution_count": 4,
   "id": "df6d0dc2",
   "metadata": {},
   "outputs": [],
   "source": [
    "def import_yolo_data(data_dir, split, stride=1):\n",
    "    image_path = os.path.join(data_dir, \"images\", split)\n",
    "    label_path = os.path.join(data_dir, \"labels\", split)\n",
    "    \n",
    "    images = []\n",
    "    image_filenames= []\n",
    "    labels = []\n",
    "    \n",
    "    i = 0\n",
    "    \n",
    "    for file_name in glob.glob(os.path.join(image_path, \"*.jpg\")):\n",
    "        if i % stride == 0:\n",
    "            img = cv2.imread(file_name)\n",
    "            height, width = img.shape[:2]\n",
    "            img = cv2.resize(img, (int(width / shrink_factor), int(height / shrink_factor)))\n",
    "            images.append(img / 255.0)\n",
    "            \n",
    "            image_filenames.append(file_name)\n",
    "        i += 1\n",
    "        \n",
    "        \n",
    "#     i = 0\n",
    "    \n",
    "#     for label_txt in glob.glob(os.path.join(label_path, \"*.txt\")):\n",
    "#         if i % stride == 0:\n",
    "#             with open(label_txt) as f:\n",
    "#                 labels.append(int(f.readlines()[0].split(\" \")[0]))\n",
    "#         i += 1\n",
    "    for image_filename in image_filenames:\n",
    "        with open(image_filename.replace(\"images\", \"labels\", 1).replace(\"jpg\", \"txt\", 1)) as f:\n",
    "            labels.append(int(f.readlines()[0].split(\" \")[0]))\n",
    "            \n",
    "    return (images, labels)"
   ]
  },
  {
   "cell_type": "code",
   "execution_count": 5,
   "id": "172fa5b8",
   "metadata": {},
   "outputs": [
    {
     "name": "stdout",
     "output_type": "stream",
     "text": [
      "600\n"
     ]
    }
   ],
   "source": [
    "stride = 4\n",
    "train_X, train_y = import_yolo_data(data_dir, \"train\", stride)\n",
    "val_X, val_y = import_yolo_data(data_dir, \"val\", stride)\n",
    "test_X, test_y = import_yolo_data(data_dir, \"test\", stride)\n",
    "\n",
    "print(len(train_X))"
   ]
  },
  {
   "cell_type": "code",
   "execution_count": 6,
   "id": "5e07af8c",
   "metadata": {},
   "outputs": [],
   "source": [
    "train_y = OneHotEncoder().fit_transform(np.array(train_y).reshape(-1,1)).reshape(-1, 4).toarray()\n",
    "val_y = OneHotEncoder().fit_transform(np.array(val_y).reshape(-1,1)).reshape(-1, 4).toarray()\n",
    "test_y = OneHotEncoder().fit_transform(np.array(test_y).reshape(-1,1)).reshape(-1, 4).toarray()\n",
    "\n",
    "class_names = [\"0\", \"1\", \"2\", \"3\"]"
   ]
  },
  {
   "cell_type": "code",
   "execution_count": 7,
   "id": "4371890b",
   "metadata": {},
   "outputs": [
    {
     "name": "stdout",
     "output_type": "stream",
     "text": [
      "600\n",
      "600\n",
      "\n",
      "200\n",
      "200\n",
      "\n",
      "200\n",
      "200\n"
     ]
    }
   ],
   "source": [
    "print(len(train_X))\n",
    "print(len(train_y))\n",
    "print()\n",
    "print(len(val_X))\n",
    "print(len(val_y))\n",
    "print()\n",
    "print(len(test_X))\n",
    "print(len(test_y))"
   ]
  },
  {
   "cell_type": "code",
   "execution_count": 8,
   "id": "393be180",
   "metadata": {},
   "outputs": [],
   "source": [
    "train_X = np.array(train_X)\n",
    "val_X = np.array(val_X)\n",
    "test_X = np.array(test_X)"
   ]
  },
  {
   "cell_type": "code",
   "execution_count": 9,
   "id": "3ee317b0",
   "metadata": {},
   "outputs": [],
   "source": [
    "def model_builder(hp):\n",
    "\n",
    "    model = keras.Sequential()\n",
    "    model.add(keras.layers.Conv2D(32, (3, 3), input_shape = (int(720 / shrink_factor), int(1280 / shrink_factor), 3), activation = 'relu'))\n",
    "    \n",
    "    model.add(keras.layers.MaxPooling2D(2))\n",
    "    model.add(keras.layers.Conv2D(32, (3, 3), activation = 'relu'))\n",
    "    model.add(keras.layers.MaxPooling2D(2))\n",
    "    model.add(keras.layers.Conv2D(64, (3, 3), activation = 'relu'))\n",
    "    model.add(keras.layers.MaxPooling2D(2))\n",
    "    model.add(keras.layers.Conv2D(64, (3, 3), activation = 'relu'))\n",
    "    model.add(keras.layers.MaxPooling2D(2))\n",
    "    \n",
    "    model.add(keras.layers.Flatten())\n",
    "    \n",
    "    model.add(keras.layers.Dense(128, activation = 'relu'))\n",
    "    model.add(keras.layers.Dense(4, activation = 'softmax'))\n",
    "    \n",
    "    hp_learning_rate = hp.Choice('learning_rate', values = [0.5, 1e-1, 1e-2, 1e-3, 1e-4])\n",
    "#     hp_learning_rate = 0.01\n",
    "    \n",
    "    model.compile(loss=tf.keras.losses.CategoricalCrossentropy(\n",
    "    from_logits=False,\n",
    "    label_smoothing=0.0,\n",
    "    axis=-1,\n",
    "    reduction=\"auto\",\n",
    "    name=\"categorical_crossentropy\",\n",
    "), optimizer = keras.optimizers.Adam(learning_rate = hp_learning_rate), metrics=['accuracy'])\n",
    "    return model"
   ]
  },
  {
   "cell_type": "code",
   "execution_count": 10,
   "id": "df6fb83f",
   "metadata": {},
   "outputs": [
    {
     "name": "stderr",
     "output_type": "stream",
     "text": [
      "2023-01-09 16:19:25.944506: I tensorflow/stream_executor/cuda/cuda_gpu_executor.cc:966] could not open file to read NUMA node: /sys/bus/pci/devices/0000:01:00.0/numa_node\n",
      "Your kernel may have been built without NUMA support.\n",
      "2023-01-09 16:19:26.076660: I tensorflow/stream_executor/cuda/cuda_gpu_executor.cc:966] could not open file to read NUMA node: /sys/bus/pci/devices/0000:01:00.0/numa_node\n",
      "Your kernel may have been built without NUMA support.\n",
      "2023-01-09 16:19:26.076703: I tensorflow/stream_executor/cuda/cuda_gpu_executor.cc:966] could not open file to read NUMA node: /sys/bus/pci/devices/0000:01:00.0/numa_node\n",
      "Your kernel may have been built without NUMA support.\n",
      "2023-01-09 16:19:26.077334: I tensorflow/core/platform/cpu_feature_guard.cc:193] This TensorFlow binary is optimized with oneAPI Deep Neural Network Library (oneDNN) to use the following CPU instructions in performance-critical operations:  AVX2 AVX_VNNI FMA\n",
      "To enable them in other operations, rebuild TensorFlow with the appropriate compiler flags.\n",
      "2023-01-09 16:19:26.080225: I tensorflow/stream_executor/cuda/cuda_gpu_executor.cc:966] could not open file to read NUMA node: /sys/bus/pci/devices/0000:01:00.0/numa_node\n",
      "Your kernel may have been built without NUMA support.\n",
      "2023-01-09 16:19:26.080264: I tensorflow/stream_executor/cuda/cuda_gpu_executor.cc:966] could not open file to read NUMA node: /sys/bus/pci/devices/0000:01:00.0/numa_node\n",
      "Your kernel may have been built without NUMA support.\n",
      "2023-01-09 16:19:26.080279: I tensorflow/stream_executor/cuda/cuda_gpu_executor.cc:966] could not open file to read NUMA node: /sys/bus/pci/devices/0000:01:00.0/numa_node\n",
      "Your kernel may have been built without NUMA support.\n",
      "2023-01-09 16:19:26.811146: I tensorflow/stream_executor/cuda/cuda_gpu_executor.cc:966] could not open file to read NUMA node: /sys/bus/pci/devices/0000:01:00.0/numa_node\n",
      "Your kernel may have been built without NUMA support.\n",
      "2023-01-09 16:19:26.811751: I tensorflow/stream_executor/cuda/cuda_gpu_executor.cc:966] could not open file to read NUMA node: /sys/bus/pci/devices/0000:01:00.0/numa_node\n",
      "Your kernel may have been built without NUMA support.\n",
      "2023-01-09 16:19:26.811772: I tensorflow/core/common_runtime/gpu/gpu_device.cc:1700] Could not identify NUMA node of platform GPU id 0, defaulting to 0.  Your kernel may not have been built with NUMA support.\n",
      "2023-01-09 16:19:26.811822: I tensorflow/stream_executor/cuda/cuda_gpu_executor.cc:966] could not open file to read NUMA node: /sys/bus/pci/devices/0000:01:00.0/numa_node\n",
      "Your kernel may have been built without NUMA support.\n",
      "2023-01-09 16:19:26.811900: I tensorflow/core/common_runtime/gpu/gpu_device.cc:1616] Created device /job:localhost/replica:0/task:0/device:GPU:0 with 5400 MB memory:  -> device: 0, name: NVIDIA GeForce RTX 3070 Ti Laptop GPU, pci bus id: 0000:01:00.0, compute capability: 8.6\n"
     ]
    }
   ],
   "source": [
    "tuner = kt.Hyperband(model_builder,\n",
    "                     objective='val_accuracy',\n",
    "                     max_epochs=15,\n",
    "                     factor=3,\n",
    "                     directory='kt_cnn',\n",
    "                     project_name='cnnv3_4')"
   ]
  },
  {
   "cell_type": "code",
   "execution_count": 11,
   "id": "11980b06",
   "metadata": {},
   "outputs": [],
   "source": [
    "logdir = os.path.join(\n",
    "    \"logs\", datetime.datetime.now().strftime(\"%Y%m%d-%H%M%S\"))\n",
    "tensorboard_callback = keras.callbacks.TensorBoard(logdir)"
   ]
  },
  {
   "cell_type": "code",
   "execution_count": 12,
   "id": "2073d057",
   "metadata": {},
   "outputs": [
    {
     "name": "stdout",
     "output_type": "stream",
     "text": [
      "Trial 5 Complete [00h 00m 02s]\n",
      "val_accuracy: 0.2800000011920929\n",
      "\n",
      "Best val_accuracy So Far: 0.35499998927116394\n",
      "Total elapsed time: 00h 00m 15s\n",
      "INFO:tensorflow:Oracle triggered exit\n"
     ]
    }
   ],
   "source": [
    "tuner.search(train_X, train_y,\n",
    "             validation_data=(val_X, val_y),\n",
    "             callbacks=[tensorboard_callback])"
   ]
  },
  {
   "cell_type": "code",
   "execution_count": 13,
   "id": "4f91b97d",
   "metadata": {},
   "outputs": [],
   "source": [
    "best_hps = tuner.get_best_hyperparameters()[0]"
   ]
  },
  {
   "cell_type": "code",
   "execution_count": null,
   "id": "82efee4a",
   "metadata": {},
   "outputs": [],
   "source": []
  },
  {
   "cell_type": "code",
   "execution_count": 14,
   "id": "94eed626",
   "metadata": {},
   "outputs": [
    {
     "name": "stdout",
     "output_type": "stream",
     "text": [
      "Model: \"sequential\"\n",
      "_________________________________________________________________\n",
      " Layer (type)                Output Shape              Param #   \n",
      "=================================================================\n",
      " conv2d (Conv2D)             (None, 178, 318, 32)      896       \n",
      "                                                                 \n",
      " max_pooling2d (MaxPooling2D  (None, 89, 159, 32)      0         \n",
      " )                                                               \n",
      "                                                                 \n",
      " conv2d_1 (Conv2D)           (None, 87, 157, 32)       9248      \n",
      "                                                                 \n",
      " max_pooling2d_1 (MaxPooling  (None, 43, 78, 32)       0         \n",
      " 2D)                                                             \n",
      "                                                                 \n",
      " conv2d_2 (Conv2D)           (None, 41, 76, 64)        18496     \n",
      "                                                                 \n",
      " max_pooling2d_2 (MaxPooling  (None, 20, 38, 64)       0         \n",
      " 2D)                                                             \n",
      "                                                                 \n",
      " conv2d_3 (Conv2D)           (None, 18, 36, 64)        36928     \n",
      "                                                                 \n",
      " max_pooling2d_3 (MaxPooling  (None, 9, 18, 64)        0         \n",
      " 2D)                                                             \n",
      "                                                                 \n",
      " flatten (Flatten)           (None, 10368)             0         \n",
      "                                                                 \n",
      " dense (Dense)               (None, 128)               1327232   \n",
      "                                                                 \n",
      " dense_1 (Dense)             (None, 4)                 516       \n",
      "                                                                 \n",
      "=================================================================\n",
      "Total params: 1,393,316\n",
      "Trainable params: 1,393,316\n",
      "Non-trainable params: 0\n",
      "_________________________________________________________________\n",
      "7/7 [==============================] - 0s 10ms/step - loss: 1.3857 - accuracy: 0.3550\n"
     ]
    },
    {
     "data": {
      "text/plain": [
       "[1.3856960535049438, 0.35499998927116394]"
      ]
     },
     "execution_count": 14,
     "metadata": {},
     "output_type": "execute_result"
    }
   ],
   "source": [
    "best_model = tuner.get_best_models()[0]\n",
    "best_model.summary()\n",
    "best_model.evaluate(val_X, val_y)"
   ]
  },
  {
   "cell_type": "code",
   "execution_count": 15,
   "id": "390f7df2",
   "metadata": {},
   "outputs": [
    {
     "name": "stdout",
     "output_type": "stream",
     "text": [
      "7/7 [==============================] - 0s 8ms/step\n"
     ]
    }
   ],
   "source": [
    "y_pred = np.argmax(best_model.predict(val_X), axis=1)"
   ]
  },
  {
   "cell_type": "code",
   "execution_count": 17,
   "id": "e53d2eaa",
   "metadata": {},
   "outputs": [
    {
     "name": "stdout",
     "output_type": "stream",
     "text": [
      "7/7 [==============================] - 0s 29ms/step\n"
     ]
    },
    {
     "data": {
      "text/plain": [
       "array([[0.23437607, 0.26372686, 0.26218462, 0.23971242],\n",
       "       [0.2313647 , 0.26107207, 0.2658053 , 0.24175788],\n",
       "       [0.23358706, 0.26656336, 0.26284584, 0.23700368],\n",
       "       [0.23176597, 0.26090354, 0.26981857, 0.23751192],\n",
       "       [0.2375979 , 0.27240294, 0.26139525, 0.22860393],\n",
       "       [0.23569083, 0.2638172 , 0.26174635, 0.23874567],\n",
       "       [0.23502721, 0.2609193 , 0.26400158, 0.24005191],\n",
       "       [0.23368423, 0.26086992, 0.2654308 , 0.24001507],\n",
       "       [0.23338601, 0.2694043 , 0.25967634, 0.23753339],\n",
       "       [0.23735717, 0.2620117 , 0.26209062, 0.23854052],\n",
       "       [0.22978458, 0.25945103, 0.26993364, 0.24083078],\n",
       "       [0.23205325, 0.2608638 , 0.26714584, 0.23993717],\n",
       "       [0.23470336, 0.26103547, 0.26675346, 0.2375077 ],\n",
       "       [0.23190506, 0.26239052, 0.26568568, 0.24001876],\n",
       "       [0.23162213, 0.27025312, 0.2614597 , 0.23666508],\n",
       "       [0.23347314, 0.26160973, 0.26666132, 0.23825584],\n",
       "       [0.23640564, 0.26079124, 0.26216298, 0.24064016],\n",
       "       [0.23468709, 0.26126742, 0.2634109 , 0.24063458],\n",
       "       [0.23468128, 0.26133516, 0.26742488, 0.23655868],\n",
       "       [0.23093727, 0.26207155, 0.26740313, 0.23958802],\n",
       "       [0.2312143 , 0.26467863, 0.26491946, 0.23918761],\n",
       "       [0.22984207, 0.26124468, 0.2694442 , 0.23946907],\n",
       "       [0.23057549, 0.26145923, 0.26981968, 0.23814562],\n",
       "       [0.23342875, 0.2632776 , 0.26508608, 0.2382076 ],\n",
       "       [0.23617442, 0.26030338, 0.2632277 , 0.24029449],\n",
       "       [0.23298238, 0.26763597, 0.2618741 , 0.23750754],\n",
       "       [0.23345926, 0.2661386 , 0.26329526, 0.23710686],\n",
       "       [0.23344631, 0.25985125, 0.26825172, 0.23845078],\n",
       "       [0.22989841, 0.25971177, 0.27190238, 0.23848747],\n",
       "       [0.2327652 , 0.26072827, 0.26876816, 0.23773842],\n",
       "       [0.23060022, 0.25959417, 0.26985914, 0.23994645],\n",
       "       [0.23394375, 0.26130408, 0.26528183, 0.23947036],\n",
       "       [0.23094672, 0.25991032, 0.2684367 , 0.24070631],\n",
       "       [0.23560412, 0.2643569 , 0.26347923, 0.23655975],\n",
       "       [0.23489237, 0.26374856, 0.26169884, 0.23966025],\n",
       "       [0.2326669 , 0.26178646, 0.26557526, 0.2399714 ],\n",
       "       [0.23394796, 0.26157013, 0.26273197, 0.24174997],\n",
       "       [0.23183112, 0.26080906, 0.26719597, 0.24016385],\n",
       "       [0.23467276, 0.25952625, 0.2649068 , 0.2408942 ],\n",
       "       [0.23655786, 0.2665639 , 0.25825587, 0.23862238],\n",
       "       [0.23399544, 0.2626934 , 0.26457888, 0.23873231],\n",
       "       [0.23180658, 0.25941265, 0.27037615, 0.23840465],\n",
       "       [0.23064443, 0.2601743 , 0.2702269 , 0.23895432],\n",
       "       [0.23371537, 0.2617201 , 0.2670071 , 0.23755741],\n",
       "       [0.23440342, 0.2699273 , 0.2586952 , 0.23697409],\n",
       "       [0.23524445, 0.26215553, 0.26505342, 0.2375466 ],\n",
       "       [0.23298511, 0.2636638 , 0.26470745, 0.23864368],\n",
       "       [0.23118784, 0.26378492, 0.26785746, 0.23716979],\n",
       "       [0.23374051, 0.26153457, 0.26663998, 0.23808496],\n",
       "       [0.2322353 , 0.2591217 , 0.26872447, 0.23991857],\n",
       "       [0.23332028, 0.2630598 , 0.26443112, 0.23918882],\n",
       "       [0.23314065, 0.2614073 , 0.26441142, 0.24104066],\n",
       "       [0.2348415 , 0.26300836, 0.2622521 , 0.23989804],\n",
       "       [0.23394565, 0.26213244, 0.2651165 , 0.23880543],\n",
       "       [0.23297068, 0.26330343, 0.2652941 , 0.23843178],\n",
       "       [0.23342814, 0.26172945, 0.26639643, 0.23844598],\n",
       "       [0.23347063, 0.25806046, 0.26778355, 0.24068537],\n",
       "       [0.23486044, 0.2633345 , 0.26125818, 0.24054684],\n",
       "       [0.23611276, 0.26194203, 0.2619441 , 0.24000113],\n",
       "       [0.23380233, 0.2690573 , 0.2599934 , 0.23714699],\n",
       "       [0.23271236, 0.26429865, 0.2640981 , 0.23889087],\n",
       "       [0.23256838, 0.26695305, 0.26173586, 0.2387427 ],\n",
       "       [0.2322588 , 0.2611814 , 0.26878822, 0.23777159],\n",
       "       [0.23438655, 0.26481894, 0.26096833, 0.23982617],\n",
       "       [0.23421642, 0.25941178, 0.26522192, 0.24114987],\n",
       "       [0.23009126, 0.25914422, 0.27109146, 0.23967306],\n",
       "       [0.23205449, 0.26039   , 0.26865882, 0.23889673],\n",
       "       [0.23253834, 0.26362392, 0.26489958, 0.23893818],\n",
       "       [0.23079473, 0.26204047, 0.26717913, 0.23998563],\n",
       "       [0.23391995, 0.26327202, 0.26270822, 0.24009985],\n",
       "       [0.23305051, 0.25965527, 0.2682287 , 0.23906554],\n",
       "       [0.23446849, 0.26162025, 0.2639664 , 0.2399448 ],\n",
       "       [0.23038656, 0.2613521 , 0.27015942, 0.23810194],\n",
       "       [0.2372141 , 0.26234162, 0.2592548 , 0.2411895 ],\n",
       "       [0.23456953, 0.26218426, 0.2654333 , 0.2378129 ],\n",
       "       [0.23552306, 0.26710793, 0.2630062 , 0.2343628 ],\n",
       "       [0.23228621, 0.26034114, 0.27173942, 0.23563321],\n",
       "       [0.23509301, 0.26301333, 0.26262465, 0.23926902],\n",
       "       [0.2350208 , 0.2639618 , 0.26228884, 0.23872858],\n",
       "       [0.23438396, 0.2674839 , 0.26104304, 0.23708907],\n",
       "       [0.23152237, 0.26118204, 0.26847526, 0.2388203 ],\n",
       "       [0.2353039 , 0.26158807, 0.2647093 , 0.23839879],\n",
       "       [0.2348958 , 0.26094285, 0.2664904 , 0.23767096],\n",
       "       [0.23274386, 0.26327315, 0.26406282, 0.2399202 ],\n",
       "       [0.23418559, 0.26172313, 0.26630294, 0.23778832],\n",
       "       [0.22967984, 0.2617831 , 0.26773944, 0.24079758],\n",
       "       [0.23208268, 0.26466554, 0.26682952, 0.23642229],\n",
       "       [0.23689716, 0.27026907, 0.2572722 , 0.23556152],\n",
       "       [0.23609504, 0.261811  , 0.26316243, 0.2389315 ],\n",
       "       [0.2348481 , 0.26327613, 0.263315  , 0.2385608 ],\n",
       "       [0.2350238 , 0.26421613, 0.261525  , 0.23923509],\n",
       "       [0.23634575, 0.26303053, 0.2597879 , 0.24083582],\n",
       "       [0.23052034, 0.26146376, 0.26707315, 0.24094278],\n",
       "       [0.22952545, 0.25880566, 0.27196744, 0.23970143],\n",
       "       [0.23058116, 0.25940424, 0.2689427 , 0.24107192],\n",
       "       [0.23054218, 0.2619157 , 0.2685474 , 0.23899469],\n",
       "       [0.23482604, 0.26277614, 0.26019284, 0.24220501],\n",
       "       [0.2320124 , 0.26441884, 0.26638246, 0.23718636],\n",
       "       [0.23124556, 0.2635978 , 0.26682562, 0.23833103],\n",
       "       [0.23278165, 0.26059   , 0.2659447 , 0.2406837 ],\n",
       "       [0.23489875, 0.25954664, 0.26689827, 0.23865631],\n",
       "       [0.23467636, 0.26183116, 0.26398924, 0.23950319],\n",
       "       [0.23347901, 0.26246807, 0.26417196, 0.239881  ],\n",
       "       [0.23158911, 0.26094764, 0.26894125, 0.23852198],\n",
       "       [0.23208061, 0.26103947, 0.26876423, 0.2381157 ],\n",
       "       [0.23767953, 0.26312783, 0.26074418, 0.23844849],\n",
       "       [0.23371542, 0.2619351 , 0.26579338, 0.23855606],\n",
       "       [0.23108353, 0.26191956, 0.26901147, 0.23798543],\n",
       "       [0.23302084, 0.26271805, 0.26337624, 0.24088489],\n",
       "       [0.2326788 , 0.26201987, 0.2645334 , 0.24076794],\n",
       "       [0.23169024, 0.26475343, 0.26554814, 0.23800822],\n",
       "       [0.23463888, 0.26372346, 0.26340654, 0.23823111],\n",
       "       [0.23600851, 0.26158857, 0.259823  , 0.24257989],\n",
       "       [0.2375079 , 0.262524  , 0.2625454 , 0.2374227 ],\n",
       "       [0.23040389, 0.26283675, 0.2676806 , 0.23907876],\n",
       "       [0.2341764 , 0.2613776 , 0.26271537, 0.24173068],\n",
       "       [0.23593351, 0.26287377, 0.26110312, 0.2400896 ],\n",
       "       [0.23161179, 0.26451293, 0.266092  , 0.2377833 ],\n",
       "       [0.23151629, 0.2598888 , 0.26700488, 0.24159002],\n",
       "       [0.23224063, 0.26326135, 0.26534823, 0.23914981],\n",
       "       [0.23112124, 0.2597013 , 0.2692276 , 0.23994991],\n",
       "       [0.2304135 , 0.25943363, 0.27271694, 0.23743597],\n",
       "       [0.23018706, 0.2640016 , 0.26922426, 0.2365871 ],\n",
       "       [0.23155221, 0.26021543, 0.26902056, 0.2392118 ],\n",
       "       [0.23075183, 0.25775895, 0.27062678, 0.24086238],\n",
       "       [0.23450507, 0.26488897, 0.2623524 , 0.23825353],\n",
       "       [0.23047112, 0.25998896, 0.26816693, 0.24137294],\n",
       "       [0.23319751, 0.262798  , 0.26551798, 0.2384865 ],\n",
       "       [0.23035528, 0.26404956, 0.2678703 , 0.23772489],\n",
       "       [0.23198357, 0.26386908, 0.26693618, 0.23721114],\n",
       "       [0.23240954, 0.26359382, 0.26739866, 0.23659797],\n",
       "       [0.23232846, 0.2615876 , 0.26612505, 0.23995891],\n",
       "       [0.23423451, 0.26024458, 0.26634377, 0.23917717],\n",
       "       [0.23166668, 0.2643846 , 0.26536265, 0.23858605],\n",
       "       [0.23088896, 0.26488972, 0.26402032, 0.24020098],\n",
       "       [0.2321713 , 0.26184747, 0.266358  , 0.23962323],\n",
       "       [0.2355426 , 0.26647413, 0.26225007, 0.23573323],\n",
       "       [0.23131613, 0.26369488, 0.26632228, 0.2386667 ],\n",
       "       [0.22942853, 0.26677403, 0.26526615, 0.2385313 ],\n",
       "       [0.23357588, 0.2642503 , 0.2640018 , 0.23817201],\n",
       "       [0.23259905, 0.26350418, 0.26375264, 0.24014415],\n",
       "       [0.23434865, 0.262311  , 0.26489276, 0.23844759],\n",
       "       [0.23327675, 0.26596   , 0.26128808, 0.23947515],\n",
       "       [0.23573612, 0.26139444, 0.2632747 , 0.23959474],\n",
       "       [0.23614937, 0.26086473, 0.26240513, 0.24058075],\n",
       "       [0.23464309, 0.26054418, 0.26437938, 0.24043335],\n",
       "       [0.23328221, 0.25834608, 0.2668471 , 0.24152458],\n",
       "       [0.2353506 , 0.26143777, 0.26279294, 0.24041872],\n",
       "       [0.23047248, 0.25950804, 0.2684696 , 0.24154986],\n",
       "       [0.2327599 , 0.2637356 , 0.26309112, 0.24041337],\n",
       "       [0.2337231 , 0.26346612, 0.26369676, 0.23911402],\n",
       "       [0.23317648, 0.26501438, 0.2610296 , 0.24077956],\n",
       "       [0.23281898, 0.2605271 , 0.26798156, 0.23867236],\n",
       "       [0.23554043, 0.2591213 , 0.26553002, 0.23980829],\n",
       "       [0.2285479 , 0.26308993, 0.26940325, 0.23895894],\n",
       "       [0.23145424, 0.25628686, 0.27032554, 0.24193335],\n",
       "       [0.230974  , 0.2661772 , 0.26515737, 0.23769139],\n",
       "       [0.23373465, 0.26040763, 0.2675733 , 0.23828447],\n",
       "       [0.23089835, 0.26323944, 0.2672489 , 0.23861331],\n",
       "       [0.23479412, 0.2619798 , 0.26349118, 0.23973484],\n",
       "       [0.23135918, 0.2610898 , 0.2664274 , 0.2411236 ],\n",
       "       [0.23720343, 0.25920844, 0.26426712, 0.23932105],\n",
       "       [0.23305109, 0.262078  , 0.2656273 , 0.23924361],\n",
       "       [0.23454241, 0.26326156, 0.26209366, 0.24010238],\n",
       "       [0.23269898, 0.26424646, 0.26566193, 0.23739268],\n",
       "       [0.23374559, 0.26198474, 0.26426038, 0.24000931],\n",
       "       [0.23470895, 0.26055965, 0.26419693, 0.24053447],\n",
       "       [0.23856568, 0.2644182 , 0.2611994 , 0.23581667],\n",
       "       [0.2334911 , 0.25904524, 0.2665462 , 0.24091753],\n",
       "       [0.23169178, 0.2592509 , 0.27102214, 0.23803514],\n",
       "       [0.2365525 , 0.25946274, 0.2643566 , 0.23962812],\n",
       "       [0.22977936, 0.26232252, 0.26734114, 0.240557  ],\n",
       "       [0.22921649, 0.26009306, 0.2708378 , 0.23985265],\n",
       "       [0.23107693, 0.26109415, 0.26846588, 0.23936304],\n",
       "       [0.23198593, 0.26034856, 0.2678591 , 0.23980643],\n",
       "       [0.22975132, 0.25919724, 0.27195102, 0.23910041],\n",
       "       [0.23287821, 0.25902763, 0.26555172, 0.24254245],\n",
       "       [0.23126858, 0.26072448, 0.26766083, 0.24034616],\n",
       "       [0.23108245, 0.25989282, 0.2703106 , 0.23871413],\n",
       "       [0.2361756 , 0.26424196, 0.26309633, 0.23648612],\n",
       "       [0.23180117, 0.2618965 , 0.26955965, 0.23674269],\n",
       "       [0.22975841, 0.2583953 , 0.2713173 , 0.24052903],\n",
       "       [0.23304206, 0.26460093, 0.26523945, 0.23711754],\n",
       "       [0.2300725 , 0.26635656, 0.26688385, 0.23668712],\n",
       "       [0.23625289, 0.26109844, 0.2624841 , 0.24016456],\n",
       "       [0.23213613, 0.26100254, 0.2671996 , 0.23966168],\n",
       "       [0.2351539 , 0.2623018 , 0.26193383, 0.24061048],\n",
       "       [0.23270766, 0.2654293 , 0.26318416, 0.23867886],\n",
       "       [0.23360398, 0.2618253 , 0.26660416, 0.2379666 ],\n",
       "       [0.23102634, 0.25909933, 0.27096123, 0.23891313],\n",
       "       [0.23417413, 0.26268598, 0.26531938, 0.23782055],\n",
       "       [0.23175806, 0.25958705, 0.2689899 , 0.23966497],\n",
       "       [0.23210503, 0.2612679 , 0.26643366, 0.2401934 ],\n",
       "       [0.23200698, 0.26388505, 0.26549762, 0.23861028],\n",
       "       [0.23473717, 0.2593207 , 0.26642722, 0.23951484],\n",
       "       [0.23449786, 0.26028505, 0.26584756, 0.2393695 ],\n",
       "       [0.23306352, 0.26010132, 0.26574266, 0.24109255],\n",
       "       [0.23343976, 0.26148263, 0.26792938, 0.23714826],\n",
       "       [0.23433258, 0.2621036 , 0.26568428, 0.23787959],\n",
       "       [0.23507729, 0.26192716, 0.26459867, 0.23839693]], dtype=float32)"
      ]
     },
     "execution_count": 17,
     "metadata": {},
     "output_type": "execute_result"
    }
   ],
   "source": [
    "best_model.predict(val_X)"
   ]
  },
  {
   "cell_type": "code",
   "execution_count": null,
   "id": "a852da16",
   "metadata": {},
   "outputs": [],
   "source": []
  }
 ],
 "metadata": {
  "kernelspec": {
   "display_name": "Python 3 (ipykernel)",
   "language": "python",
   "name": "python3"
  },
  "language_info": {
   "codemirror_mode": {
    "name": "ipython",
    "version": 3
   },
   "file_extension": ".py",
   "mimetype": "text/x-python",
   "name": "python",
   "nbconvert_exporter": "python",
   "pygments_lexer": "ipython3",
   "version": "3.10.6"
  }
 },
 "nbformat": 4,
 "nbformat_minor": 5
}
