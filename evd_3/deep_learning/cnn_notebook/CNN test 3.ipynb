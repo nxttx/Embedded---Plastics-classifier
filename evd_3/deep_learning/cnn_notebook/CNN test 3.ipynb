{
 "cells": [
  {
   "cell_type": "code",
   "execution_count": 1,
   "id": "0b41a736",
   "metadata": {},
   "outputs": [
    {
     "name": "stderr",
     "output_type": "stream",
     "text": [
      "2023-01-12 11:03:52.137104: I tensorflow/core/platform/cpu_feature_guard.cc:193] This TensorFlow binary is optimized with oneAPI Deep Neural Network Library (oneDNN) to use the following CPU instructions in performance-critical operations:  AVX2 AVX_VNNI FMA\n",
      "To enable them in other operations, rebuild TensorFlow with the appropriate compiler flags.\n",
      "2023-01-12 11:03:52.382252: I tensorflow/core/util/util.cc:169] oneDNN custom operations are on. You may see slightly different numerical results due to floating-point round-off errors from different computation orders. To turn them off, set the environment variable `TF_ENABLE_ONEDNN_OPTS=0`.\n",
      "2023-01-12 11:03:52.477242: E tensorflow/stream_executor/cuda/cuda_blas.cc:2981] Unable to register cuBLAS factory: Attempting to register factory for plugin cuBLAS when one has already been registered\n",
      "2023-01-12 11:03:53.163080: W tensorflow/stream_executor/platform/default/dso_loader.cc:64] Could not load dynamic library 'libnvinfer.so.7'; dlerror: libnvinfer.so.7: cannot open shared object file: No such file or directory; LD_LIBRARY_PATH: /home/shinichi/.local/lib/python3.10/site-packages/cv2/../../lib64:\n",
      "2023-01-12 11:03:53.163207: W tensorflow/stream_executor/platform/default/dso_loader.cc:64] Could not load dynamic library 'libnvinfer_plugin.so.7'; dlerror: libnvinfer_plugin.so.7: cannot open shared object file: No such file or directory; LD_LIBRARY_PATH: /home/shinichi/.local/lib/python3.10/site-packages/cv2/../../lib64:\n",
      "2023-01-12 11:03:53.163216: W tensorflow/compiler/tf2tensorrt/utils/py_utils.cc:38] TF-TRT Warning: Cannot dlopen some TensorRT libraries. If you would like to use Nvidia GPU with TensorRT, please make sure the missing libraries mentioned above are installed properly.\n"
     ]
    }
   ],
   "source": [
    "import os\n",
    "import glob\n",
    "import cv2\n",
    "import numpy as np\n",
    "from sklearn.preprocessing import OneHotEncoder\n",
    "import keras\n",
    "import keras_tuner as kt\n",
    "import datetime\n",
    "import tensorflow as tf\n",
    "from sklearn.metrics import confusion_matrix"
   ]
  },
  {
   "cell_type": "code",
   "execution_count": 2,
   "id": "2d5c19dc",
   "metadata": {},
   "outputs": [],
   "source": [
    "data_dir = os.path.join(\"..\", \"yolo_preperation\", \"data\")"
   ]
  },
  {
   "cell_type": "code",
   "execution_count": 3,
   "id": "e23b1964",
   "metadata": {},
   "outputs": [],
   "source": [
    "shrink_factor = 4"
   ]
  },
  {
   "cell_type": "code",
   "execution_count": 4,
   "id": "df6d0dc2",
   "metadata": {},
   "outputs": [],
   "source": [
    "def import_yolo_data(data_dir, split, stride=1):\n",
    "    image_path = os.path.join(data_dir, \"images\", split)\n",
    "    label_path = os.path.join(data_dir, \"labels\", split)\n",
    "    \n",
    "    images = []\n",
    "    image_filenames= []\n",
    "    labels = []\n",
    "    \n",
    "    i = 0\n",
    "    \n",
    "    for file_name in glob.glob(os.path.join(image_path, \"*.jpg\")):\n",
    "        if i % stride == 0:\n",
    "            img = cv2.imread(file_name)\n",
    "            height, width = img.shape[:2]\n",
    "            img = cv2.resize(img, (int(width / shrink_factor), int(height / shrink_factor)))\n",
    "            images.append(img / 255.0)\n",
    "            \n",
    "            image_filenames.append(file_name)\n",
    "        i += 1\n",
    "        \n",
    "        \n",
    "#     i = 0\n",
    "    \n",
    "#     for label_txt in glob.glob(os.path.join(label_path, \"*.txt\")):\n",
    "#         if i % stride == 0:\n",
    "#             with open(label_txt) as f:\n",
    "#                 labels.append(int(f.readlines()[0].split(\" \")[0]))\n",
    "#         i += 1\n",
    "    for image_filename in image_filenames:\n",
    "        with open(image_filename.replace(\"images\", \"labels\", 1).replace(\"jpg\", \"txt\", 1)) as f:\n",
    "            labels.append(int(f.readlines()[0].split(\" \")[0]))\n",
    "            \n",
    "    return (images, labels)"
   ]
  },
  {
   "cell_type": "code",
   "execution_count": 5,
   "id": "172fa5b8",
   "metadata": {},
   "outputs": [
    {
     "name": "stdout",
     "output_type": "stream",
     "text": [
      "600\n"
     ]
    }
   ],
   "source": [
    "stride = 4\n",
    "train_X, train_y = import_yolo_data(data_dir, \"train\", stride)\n",
    "val_X, val_y = import_yolo_data(data_dir, \"val\", stride)\n",
    "test_X, test_y = import_yolo_data(data_dir, \"test\", stride)\n",
    "\n",
    "print(len(train_X))"
   ]
  },
  {
   "cell_type": "code",
   "execution_count": 6,
   "id": "5e07af8c",
   "metadata": {},
   "outputs": [],
   "source": [
    "train_y = OneHotEncoder().fit_transform(np.array(train_y).reshape(-1,1)).reshape(-1, 4).toarray()\n",
    "val_y = OneHotEncoder().fit_transform(np.array(val_y).reshape(-1,1)).reshape(-1, 4).toarray()\n",
    "test_y = OneHotEncoder().fit_transform(np.array(test_y).reshape(-1,1)).reshape(-1, 4).toarray()\n",
    "\n",
    "class_names = [\"0\", \"1\", \"2\", \"3\"]"
   ]
  },
  {
   "cell_type": "code",
   "execution_count": 7,
   "id": "4371890b",
   "metadata": {},
   "outputs": [
    {
     "name": "stdout",
     "output_type": "stream",
     "text": [
      "600\n",
      "600\n",
      "\n",
      "200\n",
      "200\n",
      "\n",
      "200\n",
      "200\n"
     ]
    }
   ],
   "source": [
    "print(len(train_X))\n",
    "print(len(train_y))\n",
    "print()\n",
    "print(len(val_X))\n",
    "print(len(val_y))\n",
    "print()\n",
    "print(len(test_X))\n",
    "print(len(test_y))"
   ]
  },
  {
   "cell_type": "code",
   "execution_count": 8,
   "id": "393be180",
   "metadata": {},
   "outputs": [],
   "source": [
    "train_X = np.array(train_X)\n",
    "val_X = np.array(val_X)\n",
    "test_X = np.array(test_X)"
   ]
  },
  {
   "cell_type": "code",
   "execution_count": 9,
   "id": "3ee317b0",
   "metadata": {},
   "outputs": [],
   "source": [
    "def model_builder(hp):\n",
    "\n",
    "    model = keras.Sequential()\n",
    "    model.add(keras.layers.Conv2D(32, (3, 3), input_shape = (int(720 / shrink_factor), int(1280 / shrink_factor), 3), activation = 'relu'))\n",
    "    \n",
    "    model.add(keras.layers.MaxPooling2D(2))\n",
    "    model.add(keras.layers.Conv2D(32, (3, 3), activation = 'relu'))\n",
    "    model.add(keras.layers.MaxPooling2D(2))\n",
    "    model.add(keras.layers.Conv2D(64, (3, 3), activation = 'relu'))\n",
    "    model.add(keras.layers.MaxPooling2D(2))\n",
    "    model.add(keras.layers.Conv2D(64, (3, 3), activation = 'relu'))\n",
    "    model.add(keras.layers.MaxPooling2D(2))\n",
    "    \n",
    "    model.add(keras.layers.Flatten())\n",
    "    \n",
    "    model.add(keras.layers.Dense(128, activation = 'relu'))\n",
    "    model.add(keras.layers.Dense(4, activation = 'softmax'))\n",
    "    \n",
    "    hp_learning_rate = hp.Choice('learning_rate', values = [0.5, 1e-1, 1e-2, 1e-3, 1e-4])\n",
    "#     hp_learning_rate = 0.01\n",
    "    \n",
    "    model.compile(loss=tf.keras.losses.CategoricalCrossentropy(\n",
    "    from_logits=False,\n",
    "    label_smoothing=0.0,\n",
    "    axis=-1,\n",
    "    reduction=\"auto\",\n",
    "    name=\"categorical_crossentropy\",\n",
    "), optimizer = keras.optimizers.Adam(learning_rate = hp_learning_rate), metrics=['accuracy'])\n",
    "    return model"
   ]
  },
  {
   "cell_type": "code",
   "execution_count": 10,
   "id": "df6fb83f",
   "metadata": {},
   "outputs": [
    {
     "name": "stdout",
     "output_type": "stream",
     "text": [
      "INFO:tensorflow:Reloading Oracle from existing project kt_cnn/cnnv3_4/oracle.json\n",
      "INFO:tensorflow:Reloading Tuner from kt_cnn/cnnv3_4/tuner0.json\n"
     ]
    },
    {
     "name": "stderr",
     "output_type": "stream",
     "text": [
      "2023-01-12 11:04:06.236117: I tensorflow/stream_executor/cuda/cuda_gpu_executor.cc:966] could not open file to read NUMA node: /sys/bus/pci/devices/0000:01:00.0/numa_node\n",
      "Your kernel may have been built without NUMA support.\n",
      "2023-01-12 11:04:06.376484: I tensorflow/stream_executor/cuda/cuda_gpu_executor.cc:966] could not open file to read NUMA node: /sys/bus/pci/devices/0000:01:00.0/numa_node\n",
      "Your kernel may have been built without NUMA support.\n",
      "2023-01-12 11:04:06.376524: I tensorflow/stream_executor/cuda/cuda_gpu_executor.cc:966] could not open file to read NUMA node: /sys/bus/pci/devices/0000:01:00.0/numa_node\n",
      "Your kernel may have been built without NUMA support.\n",
      "2023-01-12 11:04:06.377105: I tensorflow/core/platform/cpu_feature_guard.cc:193] This TensorFlow binary is optimized with oneAPI Deep Neural Network Library (oneDNN) to use the following CPU instructions in performance-critical operations:  AVX2 AVX_VNNI FMA\n",
      "To enable them in other operations, rebuild TensorFlow with the appropriate compiler flags.\n",
      "2023-01-12 11:04:06.379003: I tensorflow/stream_executor/cuda/cuda_gpu_executor.cc:966] could not open file to read NUMA node: /sys/bus/pci/devices/0000:01:00.0/numa_node\n",
      "Your kernel may have been built without NUMA support.\n",
      "2023-01-12 11:04:06.379034: I tensorflow/stream_executor/cuda/cuda_gpu_executor.cc:966] could not open file to read NUMA node: /sys/bus/pci/devices/0000:01:00.0/numa_node\n",
      "Your kernel may have been built without NUMA support.\n",
      "2023-01-12 11:04:06.379049: I tensorflow/stream_executor/cuda/cuda_gpu_executor.cc:966] could not open file to read NUMA node: /sys/bus/pci/devices/0000:01:00.0/numa_node\n",
      "Your kernel may have been built without NUMA support.\n",
      "2023-01-12 11:04:07.348097: I tensorflow/stream_executor/cuda/cuda_gpu_executor.cc:966] could not open file to read NUMA node: /sys/bus/pci/devices/0000:01:00.0/numa_node\n",
      "Your kernel may have been built without NUMA support.\n",
      "2023-01-12 11:04:07.348661: I tensorflow/stream_executor/cuda/cuda_gpu_executor.cc:966] could not open file to read NUMA node: /sys/bus/pci/devices/0000:01:00.0/numa_node\n",
      "Your kernel may have been built without NUMA support.\n",
      "2023-01-12 11:04:07.348671: I tensorflow/core/common_runtime/gpu/gpu_device.cc:1700] Could not identify NUMA node of platform GPU id 0, defaulting to 0.  Your kernel may not have been built with NUMA support.\n",
      "2023-01-12 11:04:07.348700: I tensorflow/stream_executor/cuda/cuda_gpu_executor.cc:966] could not open file to read NUMA node: /sys/bus/pci/devices/0000:01:00.0/numa_node\n",
      "Your kernel may have been built without NUMA support.\n",
      "2023-01-12 11:04:07.348728: I tensorflow/core/common_runtime/gpu/gpu_device.cc:1616] Created device /job:localhost/replica:0/task:0/device:GPU:0 with 5400 MB memory:  -> device: 0, name: NVIDIA GeForce RTX 3070 Ti Laptop GPU, pci bus id: 0000:01:00.0, compute capability: 8.6\n"
     ]
    }
   ],
   "source": [
    "tuner = kt.Hyperband(model_builder,\n",
    "                     objective='val_accuracy',\n",
    "                     max_epochs=15,\n",
    "                     factor=3,\n",
    "                     directory='kt_cnn',\n",
    "                     project_name='cnnv3_4')"
   ]
  },
  {
   "cell_type": "code",
   "execution_count": 11,
   "id": "11980b06",
   "metadata": {},
   "outputs": [],
   "source": [
    "logdir = os.path.join(\n",
    "    \"logs\", datetime.datetime.now().strftime(\"%Y%m%d-%H%M%S\"))\n",
    "tensorboard_callback = keras.callbacks.TensorBoard(logdir)"
   ]
  },
  {
   "cell_type": "code",
   "execution_count": 12,
   "id": "2073d057",
   "metadata": {},
   "outputs": [
    {
     "name": "stdout",
     "output_type": "stream",
     "text": [
      "INFO:tensorflow:Oracle triggered exit\n"
     ]
    }
   ],
   "source": [
    "tuner.search(train_X, train_y,\n",
    "             validation_data=(val_X, val_y),\n",
    "             callbacks=[tensorboard_callback])"
   ]
  },
  {
   "cell_type": "code",
   "execution_count": 13,
   "id": "4f91b97d",
   "metadata": {},
   "outputs": [],
   "source": [
    "best_hps = tuner.get_best_hyperparameters()[0]"
   ]
  },
  {
   "cell_type": "code",
   "execution_count": null,
   "id": "82efee4a",
   "metadata": {},
   "outputs": [],
   "source": []
  },
  {
   "cell_type": "code",
   "execution_count": 14,
   "id": "94eed626",
   "metadata": {},
   "outputs": [
    {
     "name": "stdout",
     "output_type": "stream",
     "text": [
      "Model: \"sequential\"\n",
      "_________________________________________________________________\n",
      " Layer (type)                Output Shape              Param #   \n",
      "=================================================================\n",
      " conv2d (Conv2D)             (None, 178, 318, 32)      896       \n",
      "                                                                 \n",
      " max_pooling2d (MaxPooling2D  (None, 89, 159, 32)      0         \n",
      " )                                                               \n",
      "                                                                 \n",
      " conv2d_1 (Conv2D)           (None, 87, 157, 32)       9248      \n",
      "                                                                 \n",
      " max_pooling2d_1 (MaxPooling  (None, 43, 78, 32)       0         \n",
      " 2D)                                                             \n",
      "                                                                 \n",
      " conv2d_2 (Conv2D)           (None, 41, 76, 64)        18496     \n",
      "                                                                 \n",
      " max_pooling2d_2 (MaxPooling  (None, 20, 38, 64)       0         \n",
      " 2D)                                                             \n",
      "                                                                 \n",
      " conv2d_3 (Conv2D)           (None, 18, 36, 64)        36928     \n",
      "                                                                 \n",
      " max_pooling2d_3 (MaxPooling  (None, 9, 18, 64)        0         \n",
      " 2D)                                                             \n",
      "                                                                 \n",
      " flatten (Flatten)           (None, 10368)             0         \n",
      "                                                                 \n",
      " dense (Dense)               (None, 128)               1327232   \n",
      "                                                                 \n",
      " dense_1 (Dense)             (None, 4)                 516       \n",
      "                                                                 \n",
      "=================================================================\n",
      "Total params: 1,393,316\n",
      "Trainable params: 1,393,316\n",
      "Non-trainable params: 0\n",
      "_________________________________________________________________\n"
     ]
    },
    {
     "name": "stderr",
     "output_type": "stream",
     "text": [
      "2023-01-12 11:04:09.426721: I tensorflow/stream_executor/cuda/cuda_dnn.cc:384] Loaded cuDNN version 8700\n"
     ]
    },
    {
     "name": "stdout",
     "output_type": "stream",
     "text": [
      "7/7 [==============================] - 3s 25ms/step - loss: 1.3857 - accuracy: 0.3550\n"
     ]
    },
    {
     "name": "stderr",
     "output_type": "stream",
     "text": [
      "2023-01-12 11:04:10.559862: I tensorflow/stream_executor/cuda/cuda_blas.cc:1614] TensorFloat-32 will be used for the matrix multiplication. This will only be logged once.\n"
     ]
    },
    {
     "data": {
      "text/plain": [
       "[1.3856964111328125, 0.35499998927116394]"
      ]
     },
     "execution_count": 14,
     "metadata": {},
     "output_type": "execute_result"
    }
   ],
   "source": [
    "best_model = tuner.get_best_models()[0]\n",
    "best_model.summary()\n",
    "best_model.evaluate(val_X, val_y)"
   ]
  },
  {
   "cell_type": "code",
   "execution_count": 15,
   "id": "390f7df2",
   "metadata": {},
   "outputs": [
    {
     "name": "stdout",
     "output_type": "stream",
     "text": [
      "7/7 [==============================] - 0s 9ms/step\n"
     ]
    }
   ],
   "source": [
    "y_pred = np.argmax(best_model.predict(val_X), axis=1)"
   ]
  },
  {
   "cell_type": "code",
   "execution_count": 16,
   "id": "e53d2eaa",
   "metadata": {},
   "outputs": [
    {
     "name": "stdout",
     "output_type": "stream",
     "text": [
      "7/7 [==============================] - 0s 9ms/step\n"
     ]
    },
    {
     "data": {
      "text/plain": [
       "array([[0.23437613, 0.26372677, 0.26218465, 0.23971245],\n",
       "       [0.23136471, 0.2610721 , 0.26580536, 0.24175785],\n",
       "       [0.23358706, 0.2665632 , 0.262846  , 0.23700376],\n",
       "       [0.23176599, 0.26090363, 0.26981848, 0.23751187],\n",
       "       [0.23759796, 0.27240285, 0.26139528, 0.22860388],\n",
       "       [0.23569085, 0.2638172 , 0.26174635, 0.23874564],\n",
       "       [0.23502721, 0.2609193 , 0.26400158, 0.24005191],\n",
       "       [0.23368423, 0.26086992, 0.26543075, 0.24001503],\n",
       "       [0.23338595, 0.26940423, 0.2596764 , 0.23753344],\n",
       "       [0.23735718, 0.2620117 , 0.26209062, 0.23854052],\n",
       "       [0.22978456, 0.2594511 , 0.2699337 , 0.24083064],\n",
       "       [0.23205332, 0.26086372, 0.2671459 , 0.23993708],\n",
       "       [0.23470338, 0.26103544, 0.26675346, 0.2375077 ],\n",
       "       [0.23190509, 0.2623906 , 0.26568574, 0.24001859],\n",
       "       [0.23162219, 0.27025312, 0.2614598 , 0.23666495],\n",
       "       [0.23347299, 0.2616097 , 0.2666612 , 0.23825608],\n",
       "       [0.23640564, 0.26079124, 0.26216298, 0.24064018],\n",
       "       [0.23468708, 0.26126748, 0.26341087, 0.24063459],\n",
       "       [0.23468128, 0.26133516, 0.26742488, 0.23655869],\n",
       "       [0.2309373 , 0.26207158, 0.26740313, 0.239588  ],\n",
       "       [0.23121428, 0.26467875, 0.26491946, 0.23918751],\n",
       "       [0.2298421 , 0.26124468, 0.2694442 , 0.23946908],\n",
       "       [0.23057549, 0.26145923, 0.26981968, 0.23814562],\n",
       "       [0.23342875, 0.26327762, 0.2650861 , 0.23820752],\n",
       "       [0.23617451, 0.2603034 , 0.26322764, 0.24029443],\n",
       "       [0.2329822 , 0.2676358 , 0.2618743 , 0.23750773],\n",
       "       [0.2334591 , 0.26613855, 0.26329547, 0.23710687],\n",
       "       [0.23344624, 0.25985107, 0.26825184, 0.23845083],\n",
       "       [0.2298984 , 0.25971177, 0.27190238, 0.23848747],\n",
       "       [0.23276514, 0.26072824, 0.26876816, 0.23773849],\n",
       "       [0.23060013, 0.25959417, 0.26985914, 0.23994654],\n",
       "       [0.23394378, 0.26130408, 0.26528183, 0.23947036],\n",
       "       [0.23094667, 0.25991026, 0.26843664, 0.24070643],\n",
       "       [0.23560417, 0.26435682, 0.26347938, 0.23655964],\n",
       "       [0.23489237, 0.26374856, 0.26169884, 0.23966025],\n",
       "       [0.23266713, 0.26178664, 0.265575  , 0.23997124],\n",
       "       [0.23394796, 0.26157016, 0.26273197, 0.24174996],\n",
       "       [0.23183115, 0.26080903, 0.267196  , 0.24016383],\n",
       "       [0.23467274, 0.25952622, 0.2649068 , 0.24089424],\n",
       "       [0.23655784, 0.26656386, 0.25825587, 0.23862244],\n",
       "       [0.2339954 , 0.26269343, 0.26457888, 0.23873234],\n",
       "       [0.23180658, 0.25941265, 0.27037612, 0.23840463],\n",
       "       [0.23064445, 0.2601743 , 0.2702269 , 0.23895432],\n",
       "       [0.23371536, 0.2617201 , 0.26700705, 0.23755747],\n",
       "       [0.23440346, 0.2699273 , 0.25869524, 0.23697397],\n",
       "       [0.23524447, 0.2621555 , 0.26505345, 0.23754658],\n",
       "       [0.23298508, 0.26366392, 0.2647076 , 0.23864344],\n",
       "       [0.23118772, 0.26378497, 0.26785755, 0.23716979],\n",
       "       [0.2337405 , 0.26153457, 0.26663998, 0.23808499],\n",
       "       [0.23223524, 0.25912166, 0.2687244 , 0.23991865],\n",
       "       [0.2333201 , 0.26305974, 0.26443133, 0.23918886],\n",
       "       [0.23314065, 0.26140726, 0.26441142, 0.24104066],\n",
       "       [0.2348415 , 0.26300836, 0.2622521 , 0.23989804],\n",
       "       [0.23394564, 0.26213244, 0.26511648, 0.2388054 ],\n",
       "       [0.23297067, 0.26330343, 0.2652941 , 0.23843178],\n",
       "       [0.23342812, 0.26172942, 0.26639643, 0.23844603],\n",
       "       [0.23347063, 0.2580604 , 0.26778358, 0.24068537],\n",
       "       [0.23486046, 0.26333454, 0.2612582 , 0.24054684],\n",
       "       [0.23611264, 0.26194194, 0.26194403, 0.2400014 ],\n",
       "       [0.23380232, 0.26905715, 0.25999343, 0.23714711],\n",
       "       [0.23271234, 0.26429862, 0.26409817, 0.23889087],\n",
       "       [0.23256838, 0.2669532 , 0.26173577, 0.23874263],\n",
       "       [0.23225883, 0.2611814 , 0.2687882 , 0.23777156],\n",
       "       [0.23438656, 0.2648189 , 0.26096836, 0.23982614],\n",
       "       [0.23421654, 0.2594117 , 0.26522195, 0.24114983],\n",
       "       [0.23009124, 0.25914422, 0.27109146, 0.2396731 ],\n",
       "       [0.23205449, 0.26039   , 0.26865882, 0.23889673],\n",
       "       [0.23253813, 0.26362395, 0.2648996 , 0.2389383 ],\n",
       "       [0.23079452, 0.2620404 , 0.26717952, 0.2399856 ],\n",
       "       [0.23391998, 0.263272  , 0.26270822, 0.24009983],\n",
       "       [0.23305053, 0.25965527, 0.26822868, 0.23906554],\n",
       "       [0.2344685 , 0.26162025, 0.2639664 , 0.2399448 ],\n",
       "       [0.23038653, 0.26135206, 0.27015948, 0.23810194],\n",
       "       [0.23721418, 0.26234165, 0.25925472, 0.24118944],\n",
       "       [0.23456953, 0.26218426, 0.26543328, 0.2378129 ],\n",
       "       [0.23552305, 0.26710805, 0.2630061 , 0.23436278],\n",
       "       [0.2322862 , 0.2603411 , 0.27173945, 0.23563322],\n",
       "       [0.23509301, 0.26301333, 0.2626247 , 0.23926902],\n",
       "       [0.23502074, 0.2639618 , 0.2622888 , 0.23872867],\n",
       "       [0.23438399, 0.2674839 , 0.26104307, 0.2370891 ],\n",
       "       [0.23152232, 0.2611821 , 0.2684754 , 0.23882012],\n",
       "       [0.2353039 , 0.261588  , 0.26470935, 0.23839875],\n",
       "       [0.23489577, 0.26094276, 0.26649037, 0.23767108],\n",
       "       [0.2327438 , 0.2632732 , 0.2640627 , 0.23992026],\n",
       "       [0.23418552, 0.2617232 , 0.26630294, 0.2377883 ],\n",
       "       [0.22967984, 0.26178315, 0.26773944, 0.24079755],\n",
       "       [0.23208262, 0.26466554, 0.26682952, 0.23642232],\n",
       "       [0.23689725, 0.2702692 , 0.2572722 , 0.23556137],\n",
       "       [0.23609507, 0.26181096, 0.2631624 , 0.23893154],\n",
       "       [0.23484822, 0.26327628, 0.26331475, 0.2385608 ],\n",
       "       [0.23502368, 0.26421604, 0.26152515, 0.2392351 ],\n",
       "       [0.23634574, 0.26303056, 0.2597879 , 0.24083583],\n",
       "       [0.2305203 , 0.26146373, 0.26707318, 0.2409428 ],\n",
       "       [0.22952539, 0.25880572, 0.2719675 , 0.23970138],\n",
       "       [0.23058112, 0.2594041 , 0.26894274, 0.24107206],\n",
       "       [0.23054221, 0.2619157 , 0.26854745, 0.23899467],\n",
       "       [0.23482594, 0.2627761 , 0.26019293, 0.242205  ],\n",
       "       [0.23201242, 0.2644188 , 0.26638258, 0.23718621],\n",
       "       [0.23124559, 0.2635979 , 0.26682553, 0.238331  ],\n",
       "       [0.23278166, 0.26058996, 0.2659447 , 0.2406837 ],\n",
       "       [0.23489867, 0.25954664, 0.2668983 , 0.2386564 ],\n",
       "       [0.23467639, 0.2618312 , 0.26398927, 0.23950319],\n",
       "       [0.23347901, 0.26246804, 0.26417196, 0.23988098],\n",
       "       [0.23158912, 0.26094767, 0.26894128, 0.23852195],\n",
       "       [0.23208056, 0.26103947, 0.26876426, 0.23811567],\n",
       "       [0.23767936, 0.2631277 , 0.26074433, 0.23844858],\n",
       "       [0.2337156 , 0.26193517, 0.26579326, 0.23855598],\n",
       "       [0.23108356, 0.2619195 , 0.26901156, 0.2379854 ],\n",
       "       [0.2330208 , 0.262718  , 0.26337627, 0.24088494],\n",
       "       [0.23267882, 0.2620198 , 0.26453337, 0.24076803],\n",
       "       [0.23169027, 0.26475352, 0.2655479 , 0.23800829],\n",
       "       [0.23463894, 0.26372346, 0.2634066 , 0.238231  ],\n",
       "       [0.23600851, 0.26158845, 0.259823  , 0.24258007],\n",
       "       [0.23750801, 0.262524  , 0.26254526, 0.23742267],\n",
       "       [0.23040389, 0.26283672, 0.26768062, 0.23907879],\n",
       "       [0.23417637, 0.2613776 , 0.26271537, 0.24173065],\n",
       "       [0.2359334 , 0.2628737 , 0.26110318, 0.24008971],\n",
       "       [0.23161177, 0.26451293, 0.266092  , 0.23778331],\n",
       "       [0.23151627, 0.2598888 , 0.26700488, 0.24159002],\n",
       "       [0.2322406 , 0.2632614 , 0.26534817, 0.23914984],\n",
       "       [0.23112127, 0.25970134, 0.26922765, 0.23994972],\n",
       "       [0.2304135 , 0.25943363, 0.27271688, 0.23743594],\n",
       "       [0.23018704, 0.2640016 , 0.26922423, 0.23658712],\n",
       "       [0.2315522 , 0.26021558, 0.2690203 , 0.23921195],\n",
       "       [0.23075183, 0.25775895, 0.27062678, 0.24086238],\n",
       "       [0.23450509, 0.264889  , 0.26235217, 0.23825371],\n",
       "       [0.23047115, 0.2599888 , 0.26816708, 0.24137293],\n",
       "       [0.23319747, 0.26279813, 0.26551798, 0.23848644],\n",
       "       [0.23035523, 0.26404953, 0.2678704 , 0.23772483],\n",
       "       [0.23198369, 0.26386908, 0.26693615, 0.23721108],\n",
       "       [0.23240958, 0.2635938 , 0.26739866, 0.23659799],\n",
       "       [0.2323285 , 0.2615876 , 0.26612514, 0.23995878],\n",
       "       [0.23423444, 0.26024473, 0.26634392, 0.23917691],\n",
       "       [0.23166671, 0.2643846 , 0.2653625 , 0.23858617],\n",
       "       [0.23088899, 0.26488978, 0.26402026, 0.2402009 ],\n",
       "       [0.2321712 , 0.26184723, 0.2663582 , 0.23962338],\n",
       "       [0.23554255, 0.26647374, 0.26225019, 0.23573357],\n",
       "       [0.23131604, 0.26369503, 0.26632226, 0.23866667],\n",
       "       [0.22942851, 0.26677403, 0.26526615, 0.2385313 ],\n",
       "       [0.23357591, 0.26425034, 0.2640018 , 0.238172  ],\n",
       "       [0.232599  , 0.26350412, 0.2637527 , 0.2401442 ],\n",
       "       [0.23434864, 0.262311  , 0.2648928 , 0.23844759],\n",
       "       [0.23327668, 0.26595992, 0.2612882 , 0.23947516],\n",
       "       [0.2357361 , 0.26139444, 0.26327473, 0.23959473],\n",
       "       [0.2361493 , 0.26086468, 0.26240513, 0.2405809 ],\n",
       "       [0.23464312, 0.26054424, 0.26437938, 0.24043322],\n",
       "       [0.23328221, 0.25834605, 0.26684713, 0.24152459],\n",
       "       [0.23535062, 0.26143777, 0.26279286, 0.24041872],\n",
       "       [0.23047248, 0.2595081 , 0.26846957, 0.24154988],\n",
       "       [0.2327598 , 0.26373577, 0.26309124, 0.24041314],\n",
       "       [0.23372313, 0.26346612, 0.2636968 , 0.23911399],\n",
       "       [0.23317647, 0.2650142 , 0.26102963, 0.24077971],\n",
       "       [0.23281896, 0.26052698, 0.26798174, 0.23867226],\n",
       "       [0.23554046, 0.2591213 , 0.26552996, 0.23980828],\n",
       "       [0.22854775, 0.26309004, 0.2694032 , 0.23895903],\n",
       "       [0.23145418, 0.2562867 , 0.27032563, 0.24193347],\n",
       "       [0.23097388, 0.26617733, 0.2651573 , 0.23769148],\n",
       "       [0.2337346 , 0.26040754, 0.26757324, 0.23828462],\n",
       "       [0.2308983 , 0.2632394 , 0.26724893, 0.23861331],\n",
       "       [0.23479411, 0.2619798 , 0.26349118, 0.23973486],\n",
       "       [0.23135921, 0.26108983, 0.26642725, 0.24112374],\n",
       "       [0.23720337, 0.25920832, 0.26426712, 0.23932113],\n",
       "       [0.23305097, 0.26207796, 0.26562738, 0.23924373],\n",
       "       [0.2345424 , 0.26326153, 0.26209372, 0.24010234],\n",
       "       [0.23269896, 0.26424643, 0.2656619 , 0.2373927 ],\n",
       "       [0.2337456 , 0.2619848 , 0.26426035, 0.24000923],\n",
       "       [0.23470895, 0.26055965, 0.26419693, 0.24053448],\n",
       "       [0.23856567, 0.2644182 , 0.26119944, 0.23581667],\n",
       "       [0.2334911 , 0.2590452 , 0.2665462 , 0.24091752],\n",
       "       [0.23169178, 0.2592509 , 0.27102214, 0.23803514],\n",
       "       [0.23655254, 0.25946268, 0.26435664, 0.23962814],\n",
       "       [0.22977929, 0.26232263, 0.26734105, 0.24055701],\n",
       "       [0.22921655, 0.26009324, 0.27083758, 0.23985265],\n",
       "       [0.23107699, 0.2610942 , 0.2684658 , 0.23936298],\n",
       "       [0.23198594, 0.2603486 , 0.26785898, 0.23980644],\n",
       "       [0.22975133, 0.25919724, 0.27195102, 0.23910041],\n",
       "       [0.2328781 , 0.25902766, 0.26555178, 0.24254246],\n",
       "       [0.23126854, 0.26072448, 0.26766077, 0.24034621],\n",
       "       [0.23108228, 0.2598926 , 0.27031088, 0.23871428],\n",
       "       [0.23617555, 0.26424202, 0.26309627, 0.23648614],\n",
       "       [0.23180112, 0.26189652, 0.26955977, 0.23674265],\n",
       "       [0.22975834, 0.25839522, 0.27131724, 0.2405292 ],\n",
       "       [0.23304206, 0.26460096, 0.26523945, 0.23711754],\n",
       "       [0.23007251, 0.26635656, 0.26688382, 0.23668711],\n",
       "       [0.23625301, 0.2610984 , 0.2624842 , 0.2401644 ],\n",
       "       [0.23213603, 0.2610019 , 0.26720032, 0.23966174],\n",
       "       [0.23515393, 0.26230177, 0.26193392, 0.24061039],\n",
       "       [0.23270766, 0.2654293 , 0.26318416, 0.23867887],\n",
       "       [0.23360398, 0.26182526, 0.2666041 , 0.23796661],\n",
       "       [0.23102736, 0.2591002 , 0.27095994, 0.23891248],\n",
       "       [0.23417413, 0.262686  , 0.2653193 , 0.23782057],\n",
       "       [0.23175803, 0.259587  , 0.26899   , 0.239665  ],\n",
       "       [0.23210505, 0.26126796, 0.26643366, 0.2401934 ],\n",
       "       [0.23200704, 0.26388514, 0.26549757, 0.23861025],\n",
       "       [0.23473714, 0.25932068, 0.26642725, 0.23951487],\n",
       "       [0.23449787, 0.26028508, 0.2658476 , 0.23936948],\n",
       "       [0.23306349, 0.2601013 , 0.26574266, 0.24109255],\n",
       "       [0.23343973, 0.26148233, 0.26792985, 0.23714808],\n",
       "       [0.23433255, 0.26210362, 0.26568425, 0.23787959],\n",
       "       [0.23507735, 0.26192698, 0.26459882, 0.23839688]], dtype=float32)"
      ]
     },
     "execution_count": 16,
     "metadata": {},
     "output_type": "execute_result"
    }
   ],
   "source": [
    "best_model.predict(val_X)"
   ]
  },
  {
   "cell_type": "code",
   "execution_count": null,
   "id": "a852da16",
   "metadata": {},
   "outputs": [],
   "source": []
  }
 ],
 "metadata": {
  "kernelspec": {
   "display_name": "Python 3 (ipykernel)",
   "language": "python",
   "name": "python3"
  },
  "language_info": {
   "codemirror_mode": {
    "name": "ipython",
    "version": 3
   },
   "file_extension": ".py",
   "mimetype": "text/x-python",
   "name": "python",
   "nbconvert_exporter": "python",
   "pygments_lexer": "ipython3",
   "version": "3.10.6"
  }
 },
 "nbformat": 4,
 "nbformat_minor": 5
}
