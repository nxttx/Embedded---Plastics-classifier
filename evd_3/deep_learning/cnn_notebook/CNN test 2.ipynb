{
 "cells": [
  {
   "cell_type": "code",
   "execution_count": 1,
   "id": "ecc16a3d",
   "metadata": {},
   "outputs": [
    {
     "name": "stderr",
     "output_type": "stream",
     "text": [
      "2023-01-09 14:02:20.727525: I tensorflow/core/platform/cpu_feature_guard.cc:193] This TensorFlow binary is optimized with oneAPI Deep Neural Network Library (oneDNN) to use the following CPU instructions in performance-critical operations:  AVX2 AVX_VNNI FMA\n",
      "To enable them in other operations, rebuild TensorFlow with the appropriate compiler flags.\n",
      "2023-01-09 14:02:20.829020: I tensorflow/core/util/util.cc:169] oneDNN custom operations are on. You may see slightly different numerical results due to floating-point round-off errors from different computation orders. To turn them off, set the environment variable `TF_ENABLE_ONEDNN_OPTS=0`.\n",
      "2023-01-09 14:02:20.852142: E tensorflow/stream_executor/cuda/cuda_blas.cc:2981] Unable to register cuBLAS factory: Attempting to register factory for plugin cuBLAS when one has already been registered\n",
      "2023-01-09 14:02:21.276845: W tensorflow/stream_executor/platform/default/dso_loader.cc:64] Could not load dynamic library 'libnvinfer.so.7'; dlerror: libnvinfer.so.7: cannot open shared object file: No such file or directory; LD_LIBRARY_PATH: /home/shinichi/.local/lib/python3.10/site-packages/cv2/../../lib64:\n",
      "2023-01-09 14:02:21.276940: W tensorflow/stream_executor/platform/default/dso_loader.cc:64] Could not load dynamic library 'libnvinfer_plugin.so.7'; dlerror: libnvinfer_plugin.so.7: cannot open shared object file: No such file or directory; LD_LIBRARY_PATH: /home/shinichi/.local/lib/python3.10/site-packages/cv2/../../lib64:\n",
      "2023-01-09 14:02:21.276950: W tensorflow/compiler/tf2tensorrt/utils/py_utils.cc:38] TF-TRT Warning: Cannot dlopen some TensorRT libraries. If you would like to use Nvidia GPU with TensorRT, please make sure the missing libraries mentioned above are installed properly.\n"
     ]
    }
   ],
   "source": [
    "import os\n",
    "import datetime\n",
    "import cv2\n",
    "import glob\n",
    "import numpy as np\n",
    "\n",
    "from sklearn.preprocessing import OneHotEncoder\n",
    "\n",
    "from keras.models import Sequential\n",
    "import keras\n",
    "\n",
    "import keras_tuner as kt\n"
   ]
  },
  {
   "cell_type": "markdown",
   "id": "96da8bf2",
   "metadata": {},
   "source": [
    "# Get data"
   ]
  },
  {
   "cell_type": "markdown",
   "id": "6d26138d",
   "metadata": {},
   "source": [
    "data is already augmented"
   ]
  },
  {
   "cell_type": "code",
   "execution_count": 2,
   "id": "830e12e4",
   "metadata": {},
   "outputs": [],
   "source": [
    "data_dir = os.path.join(\"..\", \"yolo_preperation\", \"data\")"
   ]
  },
  {
   "cell_type": "code",
   "execution_count": 3,
   "id": "ab9a2cc8",
   "metadata": {},
   "outputs": [],
   "source": [
    "def import_yolo_data(data_dir, split, stride=1):\n",
    "    image_path = os.path.join(data_dir, \"images\", split)\n",
    "    label_path = os.path.join(data_dir, \"labels\", split)\n",
    "    \n",
    "    images = []\n",
    "    labels = []\n",
    "    \n",
    "    i = 0\n",
    "    \n",
    "    for file_name in glob.glob(os.path.join(image_path, \"*.jpg\")):\n",
    "        if i % stride == 0:\n",
    "            img = cv2.imread(file_name)\n",
    "            height, width = img.shape[:2]\n",
    "            images.append(cv2.resize(img, (int(width / 2), int(height / 2))) / 255.0)\n",
    "        i += 1\n",
    "        \n",
    "        \n",
    "    i = 0\n",
    "    \n",
    "    for label_txt in glob.glob(os.path.join(label_path, \"*.txt\")):\n",
    "        if i % stride == 0:\n",
    "            with open(label_txt) as f:\n",
    "                labels.append(int(f.readlines()[0].split(\" \")[0]))\n",
    "        i += 1\n",
    "            \n",
    "    return (images, labels)"
   ]
  },
  {
   "cell_type": "code",
   "execution_count": 4,
   "id": "85fcd404",
   "metadata": {},
   "outputs": [],
   "source": [
    "stride = 16\n",
    "train_X, train_y = import_yolo_data(data_dir, \"train\", stride)\n",
    "val_X, val_y = import_yolo_data(data_dir, \"val\", stride)\n",
    "test_X, test_y = import_yolo_data(data_dir, \"test\", stride)"
   ]
  },
  {
   "cell_type": "code",
   "execution_count": 5,
   "id": "d57f8c4a",
   "metadata": {},
   "outputs": [],
   "source": [
    "# train_X = np.array(train_X).flatten().reshape(len(train_X), -1)\n",
    "# val_X = np.array(val_X).flatten().reshape(len(val_X), -1)\n",
    "# test_X = np.array(test_X).flatten().reshape(len(test_X), -1)"
   ]
  },
  {
   "cell_type": "code",
   "execution_count": 6,
   "id": "03cb12de",
   "metadata": {},
   "outputs": [],
   "source": [
    "train_X = np.array(train_X)\n",
    "val_X = np.array(val_X)\n",
    "test_X = np.array(test_X)"
   ]
  },
  {
   "cell_type": "code",
   "execution_count": 7,
   "id": "fef02e0c",
   "metadata": {},
   "outputs": [],
   "source": [
    "train_y = OneHotEncoder().fit_transform(np.array(train_y).reshape(-1,1)).reshape(-1, 4).toarray()\n",
    "val_y = OneHotEncoder().fit_transform(np.array(val_y).reshape(-1,1)).reshape(-1, 4).toarray()\n",
    "test_y = OneHotEncoder().fit_transform(np.array(test_y).reshape(-1,1)).reshape(-1, 4).toarray()\n",
    "\n",
    "class_names = [\"0\", \"1\", \"2\", \"3\"]"
   ]
  },
  {
   "cell_type": "code",
   "execution_count": 8,
   "id": "5972684c",
   "metadata": {},
   "outputs": [
    {
     "name": "stdout",
     "output_type": "stream",
     "text": [
      "(360, 640, 3)\n",
      "(4,)\n"
     ]
    }
   ],
   "source": [
    "print(train_X[0].shape)\n",
    "print(train_y[0].shape)"
   ]
  },
  {
   "cell_type": "code",
   "execution_count": 9,
   "id": "399cc4b2",
   "metadata": {},
   "outputs": [
    {
     "name": "stdout",
     "output_type": "stream",
     "text": [
      "300\n",
      "300\n",
      "\n",
      "100\n",
      "100\n",
      "\n",
      "100\n",
      "100\n"
     ]
    }
   ],
   "source": [
    "print(len(train_X))\n",
    "print(len(train_y))\n",
    "print()\n",
    "print(len(val_X))\n",
    "print(len(val_y))\n",
    "print()\n",
    "print(len(test_X))\n",
    "print(len(test_y))"
   ]
  },
  {
   "cell_type": "code",
   "execution_count": 18,
   "id": "e1204ef0",
   "metadata": {},
   "outputs": [],
   "source": [
    "def model_builder(hp):\n",
    "    model = Sequential([\n",
    "    keras.layers.Conv2D(32, (3, 3), input_shape = (360, 640, 3), activation = 'relu'),\n",
    "    keras.layers.MaxPooling2D(2),\n",
    "    keras.layers.Conv2D(32, (3, 3), activation = 'relu'),\n",
    "    keras.layers.MaxPooling2D(2),\n",
    "    keras.layers.Conv2D(64, (3, 3), activation = 'relu'),\n",
    "    keras.layers.MaxPooling2D(2),\n",
    "    keras.layers.Conv2D(64, (3, 3), activation = 'relu'),\n",
    "    keras.layers.MaxPooling2D(2),\n",
    "    keras.layers.Flatten(),\n",
    "    keras.layers.Dense(128, activation = 'relu', use_bias=True, bias_initializer='ones'),\n",
    "    keras.layers.Dense(4, activation = 'softmax', use_bias=True, bias_initializer='ones'),\n",
    "    ])\n",
    "    hp_learning_rate = hp.Choice('learning_rate', values = [0.5, 1e-1, 1e-2, 1e-3, 1e-4])\n",
    "    model.compile(loss='categorical_crossentropy', optimizer = keras.optimizers.Adam(learning_rate = hp_learning_rate), metrics=['accuracy'])\n",
    "    return model"
   ]
  },
  {
   "cell_type": "code",
   "execution_count": 26,
   "id": "2866c495",
   "metadata": {},
   "outputs": [],
   "source": [
    "tuner = kt.Hyperband(model_builder,\n",
    "                     objective = 'val_accuracy', \n",
    "                     max_epochs = 10,\n",
    "                     factor = 3,\n",
    "                     directory = 'kt_cnn',\n",
    "                     project_name = 'cnnv2_1')"
   ]
  },
  {
   "cell_type": "code",
   "execution_count": 27,
   "id": "b515570e",
   "metadata": {},
   "outputs": [],
   "source": [
    "logdir = os.path.join(\"logs\", datetime.datetime.now().strftime(\"%Y%m%d-%H%M%S\"))\n",
    "tensorboard_callback = keras.callbacks.TensorBoard(logdir)     "
   ]
  },
  {
   "cell_type": "code",
   "execution_count": 28,
   "id": "ba17a406",
   "metadata": {},
   "outputs": [
    {
     "name": "stdout",
     "output_type": "stream",
     "text": [
      "Trial 5 Complete [00h 00m 04s]\n",
      "val_accuracy: 0.30000001192092896\n",
      "\n",
      "Best val_accuracy So Far: 0.30000001192092896\n",
      "Total elapsed time: 00h 00m 31s\n",
      "INFO:tensorflow:Oracle triggered exit\n"
     ]
    }
   ],
   "source": [
    "tuner.search(train_X, train_y, epochs = 50,\n",
    "             validation_data = (val_X, val_y),\n",
    "             callbacks=[tensorboard_callback])"
   ]
  },
  {
   "cell_type": "code",
   "execution_count": 29,
   "id": "6a90ff4e",
   "metadata": {},
   "outputs": [
    {
     "name": "stdout",
     "output_type": "stream",
     "text": [
      "\n",
      "The hyperparameter search is complete. The optimal learning rate for the optimizer\n",
      "is 0.0001.\n",
      "\n"
     ]
    }
   ],
   "source": [
    "best_hps = tuner.get_best_hyperparameters()[0]\n",
    "print(f\"\"\"\n",
    "The hyperparameter search is complete. The optimal learning rate for the optimizer\n",
    "is {best_hps.get('learning_rate')}.\n",
    "\"\"\")"
   ]
  },
  {
   "cell_type": "code",
   "execution_count": 30,
   "id": "87ccdbda",
   "metadata": {},
   "outputs": [
    {
     "name": "stdout",
     "output_type": "stream",
     "text": [
      "Search space summary\n",
      "Default search space size: 1\n",
      "learning_rate (Choice)\n",
      "{'default': 0.5, 'conditions': [], 'values': [0.5, 0.1, 0.01, 0.001, 0.0001], 'ordered': True}\n",
      "Model: \"sequential\"\n",
      "_________________________________________________________________\n",
      " Layer (type)                Output Shape              Param #   \n",
      "=================================================================\n",
      " conv2d (Conv2D)             (None, 358, 638, 32)      896       \n",
      "                                                                 \n",
      " max_pooling2d (MaxPooling2D  (None, 179, 319, 32)     0         \n",
      " )                                                               \n",
      "                                                                 \n",
      " conv2d_1 (Conv2D)           (None, 177, 317, 32)      9248      \n",
      "                                                                 \n",
      " max_pooling2d_1 (MaxPooling  (None, 88, 158, 32)      0         \n",
      " 2D)                                                             \n",
      "                                                                 \n",
      " conv2d_2 (Conv2D)           (None, 86, 156, 64)       18496     \n",
      "                                                                 \n",
      " max_pooling2d_2 (MaxPooling  (None, 43, 78, 64)       0         \n",
      " 2D)                                                             \n",
      "                                                                 \n",
      " conv2d_3 (Conv2D)           (None, 41, 76, 64)        36928     \n",
      "                                                                 \n",
      " max_pooling2d_3 (MaxPooling  (None, 20, 38, 64)       0         \n",
      " 2D)                                                             \n",
      "                                                                 \n",
      " flatten (Flatten)           (None, 48640)             0         \n",
      "                                                                 \n",
      " dense (Dense)               (None, 128)               6226048   \n",
      "                                                                 \n",
      " dense_1 (Dense)             (None, 4)                 516       \n",
      "                                                                 \n",
      "=================================================================\n",
      "Total params: 6,292,132\n",
      "Trainable params: 6,292,132\n",
      "Non-trainable params: 0\n",
      "_________________________________________________________________\n",
      "4/4 [==============================] - 0s 24ms/step - loss: 1.3857 - accuracy: 0.3000\n"
     ]
    },
    {
     "data": {
      "text/plain": [
       "[1.385679006576538, 0.30000001192092896]"
      ]
     },
     "execution_count": 30,
     "metadata": {},
     "output_type": "execute_result"
    }
   ],
   "source": [
    "tuner.search_space_summary()\n",
    "\n",
    "best_model = tuner.get_best_models()[0]\n",
    "best_model.summary()\n",
    "best_model.evaluate(val_X, val_y)"
   ]
  },
  {
   "cell_type": "code",
   "execution_count": 31,
   "id": "c5e140ee",
   "metadata": {},
   "outputs": [
    {
     "name": "stdout",
     "output_type": "stream",
     "text": [
      "Results summary\n",
      "Results in kt_cnn/cnnv2_1\n",
      "Showing 10 best trials\n",
      "<keras_tuner.engine.objective.Objective object at 0x7efa643a2410>\n",
      "Trial summary\n",
      "Hyperparameters:\n",
      "learning_rate: 0.0001\n",
      "tuner/epochs: 2\n",
      "tuner/initial_epoch: 0\n",
      "tuner/bracket: 2\n",
      "tuner/round: 0\n",
      "Score: 0.30000001192092896\n",
      "Trial summary\n",
      "Hyperparameters:\n",
      "learning_rate: 0.5\n",
      "tuner/epochs: 2\n",
      "tuner/initial_epoch: 0\n",
      "tuner/bracket: 2\n",
      "tuner/round: 0\n",
      "Score: 0.30000001192092896\n",
      "Trial summary\n",
      "Hyperparameters:\n",
      "learning_rate: 0.001\n",
      "tuner/epochs: 2\n",
      "tuner/initial_epoch: 0\n",
      "tuner/bracket: 2\n",
      "tuner/round: 0\n",
      "Score: 0.30000001192092896\n",
      "Trial summary\n",
      "Hyperparameters:\n",
      "learning_rate: 0.1\n",
      "tuner/epochs: 2\n",
      "tuner/initial_epoch: 0\n",
      "tuner/bracket: 2\n",
      "tuner/round: 0\n",
      "Score: 0.30000001192092896\n",
      "Trial summary\n",
      "Hyperparameters:\n",
      "learning_rate: 0.01\n",
      "tuner/epochs: 2\n",
      "tuner/initial_epoch: 0\n",
      "tuner/bracket: 2\n",
      "tuner/round: 0\n",
      "Score: 0.28999999165534973\n"
     ]
    }
   ],
   "source": [
    "tuner.results_summary()"
   ]
  },
  {
   "cell_type": "code",
   "execution_count": null,
   "id": "30d3849e",
   "metadata": {},
   "outputs": [],
   "source": []
  },
  {
   "cell_type": "code",
   "execution_count": null,
   "id": "6e51cb91",
   "metadata": {},
   "outputs": [],
   "source": []
  }
 ],
 "metadata": {
  "kernelspec": {
   "display_name": "Python 3 (ipykernel)",
   "language": "python",
   "name": "python3"
  },
  "language_info": {
   "codemirror_mode": {
    "name": "ipython",
    "version": 3
   },
   "file_extension": ".py",
   "mimetype": "text/x-python",
   "name": "python",
   "nbconvert_exporter": "python",
   "pygments_lexer": "ipython3",
   "version": "3.10.6"
  }
 },
 "nbformat": 4,
 "nbformat_minor": 5
}
